{
 "cells": [
  {
   "cell_type": "code",
   "execution_count": null,
   "metadata": {},
   "outputs": [],
   "source": [
    "#IMPORTAR AS BIBLIOTECAS\n",
    "from selenium import webdriver #controlar o navegador\n",
    "from selenium.webdriver.chrome.service import Service #Gerenciar servico do CrhomeDriver\n",
    "from selenium.webdriver.chrome.options import Options #Config do Navegador\n",
    "from webdriver_manager.chrome import ChromeDriverManager #Gerenciar intalacao do CrhomeDriver\n",
    "from selenium.webdriver.support import expected_conditions as EC\n",
    "from bs4 import BeautifulSoup #Processar html da pagina\n",
    "import math\n",
    "import re\n",
    "import time\n",
    "import pandas as pd\n"
   ]
  },
  {
   "cell_type": "code",
   "execution_count": null,
   "metadata": {},
   "outputs": [],
   "source": [
    "# Iniciando sessao do Navegador -  Selenium WebDriver(JS BOT)\n",
    "session_options = Options() "
   ]
  },
  {
   "cell_type": "code",
   "execution_count": null,
   "metadata": {},
   "outputs": [],
   "source": [
    "# Passando argumentos de inicialicaczao (Parametros)\n",
    "arguments = [\n",
    "    '--lang=pt-BR', '--disable-notifications', \"--headless\"\n",
    "    ]\n",
    "\n",
    "for arg in arguments:\n",
    "    session_options.add_argument(arg)"
   ]
  },
  {
   "cell_type": "code",
   "execution_count": null,
   "metadata": {},
   "outputs": [],
   "source": [
    "# Carregar o Navegador (Drivers)\n",
    "navigator = webdriver.Chrome( options=session_options)\n",
    "# Ver se consegue usar opcoes basicas\n",
    "#options = get_default_chrome_options()\n",
    "    #driver = webdriver.Chrome(options=options)"
   ]
  },
  {
   "cell_type": "code",
   "execution_count": null,
   "metadata": {},
   "outputs": [],
   "source": [
    "#Correcao de espera\n",
    "errors = [NoSuchElementException, ElementNotInteractableException,ElementNotVisibleException]\n",
    "wait = WebDriverWait(navigator, timeout=2, poll_frequency=.2, ignored_exceptions=errors)"
   ]
  },
  {
   "cell_type": "code",
   "execution_count": null,
   "metadata": {},
   "outputs": [],
   "source": [
    "#URL de busca\n",
    "url = \"https://www.kabum.com.br/hardware/processadores/processador-intel\"\n",
    "navigator.get(url)\n"
   ]
  },
  {
   "cell_type": "code",
   "execution_count": null,
   "metadata": {},
   "outputs": [],
   "source": [
    "# Paginacao\n",
    "qtd_products = wait.until(expected_conditions.element_to_be_clickable((By.ID, \"listingCount\")))\n",
    "qtd_products = qtd_products.text\n",
    "numbers = re.findall(r'\\d',qtd_products)\n",
    "qtd = int(''.join(numbers))\n",
    "last_page = math.ceil(qtd/20)\n",
    "\n"
   ]
  },
  {
   "cell_type": "code",
   "execution_count": null,
   "metadata": {},
   "outputs": [],
   "source": [
    "# Dicionario de produtos\n",
    "dict_produtos = {\"Descricao\":[], \"Preco\":[]}\n"
   ]
  },
  {
   "cell_type": "code",
   "execution_count": null,
   "metadata": {},
   "outputs": [],
   "source": [
    "# Percorrendo pagina com espera\n",
    "for i in range(1,last_page+1):\n",
    "    url_pag = f\"https://www.kabum.com.br/hardware/processadores/processador-intel?page_number={i}\"\n",
    "    navigator.get(url_pag)\n",
    "    #Tratamento de espera\n",
    "    products = wait.until(expected_conditions.visibility_of_all_elements_located((By.CLASS_NAME,\"productCard\")))"
   ]
  },
  {
   "cell_type": "code",
   "execution_count": null,
   "metadata": {},
   "outputs": [],
   "source": [
    "# Buscando informacoes de produtos\n",
    " #navigator.implicitly_wait(10)\n",
    " for product in products:\n",
    "        navigator.execute_script(\"arguments[0].scrollIntoView();\", product) \n",
    "        product_name = product.find_element(By.CLASS_NAME, \"nameCard\").text\n",
    "        product_price = product.find_element(By.CLASS_NAME, \"priceCard\").text\n",
    "        #Adiciona na lista descricao e preco\n",
    "        dict_produtos[\"Descricao\"].append(product_name)\n",
    "        dict_produtos[\"Preco\"].append(product_price)"
   ]
  },
  {
   "cell_type": "code",
   "execution_count": null,
   "metadata": {},
   "outputs": [],
   "source": [
    "# Cria arquivo csv\n",
    "df = pd.DataFrame(dict_produtos)\n",
    "df.to_csv(\"Processadores_Intel.csv\", encoding=\"utf-8\", sep=\";\")\n",
    "\n",
    "print(\"Fim! Arquivo criado com sucesso.\")"
   ]
  }
 ],
 "metadata": {
  "kernelspec": {
   "display_name": "Python 3",
   "language": "python",
   "name": "python3"
  },
  "language_info": {
   "codemirror_mode": {
    "name": "ipython",
    "version": 3
   },
   "file_extension": ".py",
   "mimetype": "text/x-python",
   "name": "python",
   "nbconvert_exporter": "python",
   "pygments_lexer": "ipython3",
   "version": "3.10.3"
  }
 },
 "nbformat": 4,
 "nbformat_minor": 2
}
